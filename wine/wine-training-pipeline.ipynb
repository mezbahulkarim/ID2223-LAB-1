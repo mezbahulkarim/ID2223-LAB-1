{
 "cells": [
  {
   "cell_type": "code",
   "execution_count": 3,
   "id": "063d9a22",
   "metadata": {},
   "outputs": [
    {
     "name": "stdout",
     "output_type": "stream",
     "text": [
      "BuFkHAqrcU68dqRm.XqIMxjU4u0UiNjLdGYgc4bwr6YeyLavHSHk24dRHWsfxBVTuv1sCRBqhZvP3tAvq\n"
     ]
    }
   ],
   "source": [
    "    import hopsworks\n",
    "    import pandas as pd\n",
    "    from sklearn.neighbors import KNeighborsClassifier\n",
    "    from sklearn.tree import DecisionTreeClassifier\n",
    "    from sklearn.ensemble import RandomForestClassifier\n",
    "    from sklearn.model_selection import GridSearchCV\n",
    "    from sklearn.metrics import accuracy_score\n",
    "    from sklearn.metrics import confusion_matrix\n",
    "    from sklearn.metrics import classification_report\n",
    "    from sklearn.metrics import ConfusionMatrixDisplay\n",
    "    import seaborn as sns\n",
    "    from matplotlib import pyplot\n",
    "    from hsml.schema import Schema\n",
    "    from hsml.model_schema import ModelSchema\n",
    "    import joblib\n",
    "    import os\n",
    "    from dotenv import load_dotenv, dotenv_values\n"
   ]
  },
  {
   "cell_type": "code",
   "execution_count": 5,
   "metadata": {},
   "outputs": [
    {
     "name": "stdout",
     "output_type": "stream",
     "text": [
      "BuFkHAqrcU68dqRm.XqIMxjU4u0UiNjLdGYgc4bwr6YeyLavHSHk24dRHWsfxBVTuv1sCRBqhZvP3tAvq\n"
     ]
    }
   ],
   "source": [
    "    # REPLACE .env WITH YOUR OWN KEY_VALUE\n",
    "    config = dotenv_values(\".env\")\n",
    "    key_value = config[\"KEY\"]\n",
    "    #print(key_value)"
   ]
  },
  {
   "cell_type": "code",
   "execution_count": 44,
   "id": "5ce90341",
   "metadata": {},
   "outputs": [
    {
     "name": "stdout",
     "output_type": "stream",
     "text": [
      "Connection closed.\n",
      "Connected. Call `.close()` to terminate connection gracefully.\n",
      "\n",
      "Logged in to project, explore it here https://c.app.hopsworks.ai:443/p/193692\n",
      "Connected. Call `.close()` to terminate connection gracefully.\n"
     ]
    }
   ],
   "source": [
    "# You have to set the environment variable 'HOPSWORKS_API_KEY' for login to succeed\n",
    "project = hopsworks.login(api_key_value=key_value)\n",
    "fs = project.get_feature_store()"
   ]
  },
  {
   "cell_type": "code",
   "execution_count": 45,
   "id": "359ed7b3",
   "metadata": {},
   "outputs": [],
   "source": [
    "#CONSTRUCTS 'FEATURE VIEW' from 'FEATURE GROUP' that is already saved from before on hopsworks, LABELS coming into play now, remember feature group only had features\n",
    "# The feature view is the input set of features for your model. The features can come from different feature groups.    \n",
    "# You can select features from different feature groups and join them together to create a feature view\n",
    "wine_fg = fs.get_feature_group(name=\"wine\", version=1)\n",
    "query = wine_fg.select_all()\n",
    "feature_view = fs.get_or_create_feature_view(name=\"wine\",\n",
    "                                  version=1,\n",
    "                                  description=\"Read from Wine quality dataset\",\n",
    "                                  labels=[\"quality\"],\n",
    "                                  query=query)"
   ]
  },
  {
   "cell_type": "code",
   "execution_count": 46,
   "id": "42fbcfd3",
   "metadata": {},
   "outputs": [
    {
     "name": "stdout",
     "output_type": "stream",
     "text": [
      "0       6\n",
      "1       6\n",
      "2       6\n",
      "3       6\n",
      "4       6\n",
      "       ..\n",
      "6492    5\n",
      "6493    6\n",
      "6494    6\n",
      "6495    5\n",
      "6496    6\n",
      "Name: quality, Length: 6497, dtype: int64\n"
     ]
    }
   ],
   "source": [
    "read_wine_csv = pd.read_csv(\"wine_final.csv\")\n",
    "read_wine_csv\n",
    "y = read_wine_csv['quality']\n",
    "print(y)"
   ]
  },
  {
   "cell_type": "code",
   "execution_count": 54,
   "metadata": {},
   "outputs": [
    {
     "name": "stderr",
     "output_type": "stream",
     "text": [
      "DeprecationWarning: ssl.PROTOCOL_TLS is deprecated\n"
     ]
    },
    {
     "name": "stdout",
     "output_type": "stream",
     "text": [
      "Finished: Reading data from Hopsworks, using Hive (3.89s) \n"
     ]
    },
    {
     "data": {
      "text/html": [
       "<div>\n",
       "<style scoped>\n",
       "    .dataframe tbody tr th:only-of-type {\n",
       "        vertical-align: middle;\n",
       "    }\n",
       "\n",
       "    .dataframe tbody tr th {\n",
       "        vertical-align: top;\n",
       "    }\n",
       "\n",
       "    .dataframe thead th {\n",
       "        text-align: right;\n",
       "    }\n",
       "</style>\n",
       "<table border=\"1\" class=\"dataframe\">\n",
       "  <thead>\n",
       "    <tr style=\"text-align: right;\">\n",
       "      <th></th>\n",
       "      <th>type</th>\n",
       "      <th>fixed_acidity</th>\n",
       "      <th>volatile_acidity</th>\n",
       "      <th>citric_acid</th>\n",
       "      <th>residual_sugar</th>\n",
       "      <th>chlorides</th>\n",
       "      <th>free_sulfur_dioxide</th>\n",
       "      <th>total_sulfur_dioxide</th>\n",
       "      <th>density</th>\n",
       "      <th>ph</th>\n",
       "      <th>sulphates</th>\n",
       "      <th>alcohol</th>\n",
       "    </tr>\n",
       "  </thead>\n",
       "  <tbody>\n",
       "    <tr>\n",
       "      <th>0</th>\n",
       "      <td>1</td>\n",
       "      <td>6.9</td>\n",
       "      <td>0.290</td>\n",
       "      <td>0.320000</td>\n",
       "      <td>5.8</td>\n",
       "      <td>0.040</td>\n",
       "      <td>16.0</td>\n",
       "      <td>112.0</td>\n",
       "      <td>0.99300</td>\n",
       "      <td>3.040000</td>\n",
       "      <td>0.580000</td>\n",
       "      <td>11.2</td>\n",
       "    </tr>\n",
       "    <tr>\n",
       "      <th>1</th>\n",
       "      <td>1</td>\n",
       "      <td>7.4</td>\n",
       "      <td>0.280</td>\n",
       "      <td>0.250000</td>\n",
       "      <td>11.9</td>\n",
       "      <td>0.053</td>\n",
       "      <td>25.0</td>\n",
       "      <td>148.0</td>\n",
       "      <td>0.99760</td>\n",
       "      <td>3.100000</td>\n",
       "      <td>0.620000</td>\n",
       "      <td>9.2</td>\n",
       "    </tr>\n",
       "    <tr>\n",
       "      <th>2</th>\n",
       "      <td>1</td>\n",
       "      <td>7.5</td>\n",
       "      <td>0.240</td>\n",
       "      <td>0.310000</td>\n",
       "      <td>13.1</td>\n",
       "      <td>0.050</td>\n",
       "      <td>26.0</td>\n",
       "      <td>180.0</td>\n",
       "      <td>0.99884</td>\n",
       "      <td>3.050000</td>\n",
       "      <td>0.530000</td>\n",
       "      <td>9.1</td>\n",
       "    </tr>\n",
       "    <tr>\n",
       "      <th>3</th>\n",
       "      <td>1</td>\n",
       "      <td>6.7</td>\n",
       "      <td>0.220</td>\n",
       "      <td>0.330000</td>\n",
       "      <td>1.2</td>\n",
       "      <td>0.036</td>\n",
       "      <td>36.0</td>\n",
       "      <td>86.0</td>\n",
       "      <td>0.99058</td>\n",
       "      <td>3.100000</td>\n",
       "      <td>0.760000</td>\n",
       "      <td>11.4</td>\n",
       "    </tr>\n",
       "    <tr>\n",
       "      <th>4</th>\n",
       "      <td>1</td>\n",
       "      <td>8.3</td>\n",
       "      <td>0.140</td>\n",
       "      <td>0.450000</td>\n",
       "      <td>1.5</td>\n",
       "      <td>0.039</td>\n",
       "      <td>18.0</td>\n",
       "      <td>98.0</td>\n",
       "      <td>0.99215</td>\n",
       "      <td>3.020000</td>\n",
       "      <td>0.560000</td>\n",
       "      <td>11.0</td>\n",
       "    </tr>\n",
       "    <tr>\n",
       "      <th>...</th>\n",
       "      <td>...</td>\n",
       "      <td>...</td>\n",
       "      <td>...</td>\n",
       "      <td>...</td>\n",
       "      <td>...</td>\n",
       "      <td>...</td>\n",
       "      <td>...</td>\n",
       "      <td>...</td>\n",
       "      <td>...</td>\n",
       "      <td>...</td>\n",
       "      <td>...</td>\n",
       "      <td>...</td>\n",
       "    </tr>\n",
       "    <tr>\n",
       "      <th>5361</th>\n",
       "      <td>1</td>\n",
       "      <td>6.7</td>\n",
       "      <td>0.220</td>\n",
       "      <td>0.370000</td>\n",
       "      <td>1.6</td>\n",
       "      <td>0.028</td>\n",
       "      <td>24.0</td>\n",
       "      <td>102.0</td>\n",
       "      <td>0.99130</td>\n",
       "      <td>3.114707</td>\n",
       "      <td>0.590000</td>\n",
       "      <td>11.6</td>\n",
       "    </tr>\n",
       "    <tr>\n",
       "      <th>5362</th>\n",
       "      <td>0</td>\n",
       "      <td>7.0</td>\n",
       "      <td>0.540</td>\n",
       "      <td>0.094268</td>\n",
       "      <td>2.1</td>\n",
       "      <td>0.079</td>\n",
       "      <td>39.0</td>\n",
       "      <td>55.0</td>\n",
       "      <td>0.99560</td>\n",
       "      <td>3.390000</td>\n",
       "      <td>0.840000</td>\n",
       "      <td>11.4</td>\n",
       "    </tr>\n",
       "    <tr>\n",
       "      <th>5363</th>\n",
       "      <td>1</td>\n",
       "      <td>7.5</td>\n",
       "      <td>0.240</td>\n",
       "      <td>0.270998</td>\n",
       "      <td>13.0</td>\n",
       "      <td>0.049</td>\n",
       "      <td>46.0</td>\n",
       "      <td>217.0</td>\n",
       "      <td>0.99850</td>\n",
       "      <td>3.080000</td>\n",
       "      <td>0.530000</td>\n",
       "      <td>8.8</td>\n",
       "    </tr>\n",
       "    <tr>\n",
       "      <th>5364</th>\n",
       "      <td>1</td>\n",
       "      <td>6.8</td>\n",
       "      <td>0.220</td>\n",
       "      <td>0.350000</td>\n",
       "      <td>17.5</td>\n",
       "      <td>0.039</td>\n",
       "      <td>38.0</td>\n",
       "      <td>153.0</td>\n",
       "      <td>0.99940</td>\n",
       "      <td>3.188502</td>\n",
       "      <td>0.420000</td>\n",
       "      <td>9.0</td>\n",
       "    </tr>\n",
       "    <tr>\n",
       "      <th>5365</th>\n",
       "      <td>1</td>\n",
       "      <td>6.3</td>\n",
       "      <td>0.495</td>\n",
       "      <td>0.220000</td>\n",
       "      <td>1.8</td>\n",
       "      <td>0.046</td>\n",
       "      <td>31.0</td>\n",
       "      <td>140.0</td>\n",
       "      <td>0.99290</td>\n",
       "      <td>3.390000</td>\n",
       "      <td>0.416814</td>\n",
       "      <td>10.4</td>\n",
       "    </tr>\n",
       "  </tbody>\n",
       "</table>\n",
       "<p>5366 rows × 12 columns</p>\n",
       "</div>"
      ],
      "text/plain": [
       "      type  fixed_acidity  volatile_acidity  citric_acid  residual_sugar  \\\n",
       "0        1            6.9             0.290     0.320000             5.8   \n",
       "1        1            7.4             0.280     0.250000            11.9   \n",
       "2        1            7.5             0.240     0.310000            13.1   \n",
       "3        1            6.7             0.220     0.330000             1.2   \n",
       "4        1            8.3             0.140     0.450000             1.5   \n",
       "...    ...            ...               ...          ...             ...   \n",
       "5361     1            6.7             0.220     0.370000             1.6   \n",
       "5362     0            7.0             0.540     0.094268             2.1   \n",
       "5363     1            7.5             0.240     0.270998            13.0   \n",
       "5364     1            6.8             0.220     0.350000            17.5   \n",
       "5365     1            6.3             0.495     0.220000             1.8   \n",
       "\n",
       "      chlorides  free_sulfur_dioxide  total_sulfur_dioxide  density        ph  \\\n",
       "0         0.040                 16.0                 112.0  0.99300  3.040000   \n",
       "1         0.053                 25.0                 148.0  0.99760  3.100000   \n",
       "2         0.050                 26.0                 180.0  0.99884  3.050000   \n",
       "3         0.036                 36.0                  86.0  0.99058  3.100000   \n",
       "4         0.039                 18.0                  98.0  0.99215  3.020000   \n",
       "...         ...                  ...                   ...      ...       ...   \n",
       "5361      0.028                 24.0                 102.0  0.99130  3.114707   \n",
       "5362      0.079                 39.0                  55.0  0.99560  3.390000   \n",
       "5363      0.049                 46.0                 217.0  0.99850  3.080000   \n",
       "5364      0.039                 38.0                 153.0  0.99940  3.188502   \n",
       "5365      0.046                 31.0                 140.0  0.99290  3.390000   \n",
       "\n",
       "      sulphates  alcohol  \n",
       "0      0.580000     11.2  \n",
       "1      0.620000      9.2  \n",
       "2      0.530000      9.1  \n",
       "3      0.760000     11.4  \n",
       "4      0.560000     11.0  \n",
       "...         ...      ...  \n",
       "5361   0.590000     11.6  \n",
       "5362   0.840000     11.4  \n",
       "5363   0.530000      8.8  \n",
       "5364   0.420000      9.0  \n",
       "5365   0.416814     10.4  \n",
       "\n",
       "[5366 rows x 12 columns]"
      ]
     },
     "execution_count": 54,
     "metadata": {},
     "output_type": "execute_result"
    }
   ],
   "source": [
    "feature_view.get_batch_data()"
   ]
  },
  {
   "cell_type": "code",
   "execution_count": 53,
   "metadata": {},
   "outputs": [
    {
     "ename": "TypeError",
     "evalue": "FeatureView.train_test_split() got an unexpected keyword argument 'stratify'",
     "output_type": "error",
     "traceback": [
      "\u001b[0;31m---------------------------------------------------------------------------\u001b[0m",
      "\u001b[0;31mTypeError\u001b[0m                                 Traceback (most recent call last)",
      "\u001b[1;32m/home/mezba/Student Stuff Masters/Scalable_ML/lab_1/ID2223-LAB-1/wine/wine-training-pipeline.ipynb Cell 5\u001b[0m line \u001b[0;36m2\n\u001b[1;32m      <a href='vscode-notebook-cell:/home/mezba/Student%20Stuff%20Masters/Scalable_ML/lab_1/ID2223-LAB-1/wine/wine-training-pipeline.ipynb#X12sZmlsZQ%3D%3D?line=0'>1</a>\u001b[0m \u001b[39m# You can read training data, randomly split into train/test sets of features (X) and labels (y)  \u001b[39;00m\n\u001b[0;32m----> <a href='vscode-notebook-cell:/home/mezba/Student%20Stuff%20Masters/Scalable_ML/lab_1/ID2223-LAB-1/wine/wine-training-pipeline.ipynb#X12sZmlsZQ%3D%3D?line=1'>2</a>\u001b[0m X_train, X_test, y_train, y_test \u001b[39m=\u001b[39m feature_view\u001b[39m.\u001b[39;49mtrain_test_split(test_size\u001b[39m=\u001b[39;49m\u001b[39m0.2\u001b[39;49m, stratify\u001b[39m=\u001b[39;49my)           \u001b[39m#80:20 split\u001b[39;00m\n\u001b[1;32m      <a href='vscode-notebook-cell:/home/mezba/Student%20Stuff%20Masters/Scalable_ML/lab_1/ID2223-LAB-1/wine/wine-training-pipeline.ipynb#X12sZmlsZQ%3D%3D?line=3'>4</a>\u001b[0m \u001b[39m# Train our model with the Scikit-learn K-nearest-neighbors algorithm using our features (X_train) and labels (y_train)\u001b[39;00m\n\u001b[1;32m      <a href='vscode-notebook-cell:/home/mezba/Student%20Stuff%20Masters/Scalable_ML/lab_1/ID2223-LAB-1/wine/wine-training-pipeline.ipynb#X12sZmlsZQ%3D%3D?line=4'>5</a>\u001b[0m \u001b[39m#model = KNeighborsClassifier(n_neighbors=2)     #CHANGE AS NEEDED\u001b[39;00m\n\u001b[1;32m      <a href='vscode-notebook-cell:/home/mezba/Student%20Stuff%20Masters/Scalable_ML/lab_1/ID2223-LAB-1/wine/wine-training-pipeline.ipynb#X12sZmlsZQ%3D%3D?line=5'>6</a>\u001b[0m \u001b[39m#model = DecisionTreeClassifier()\u001b[39;00m\n\u001b[1;32m      <a href='vscode-notebook-cell:/home/mezba/Student%20Stuff%20Masters/Scalable_ML/lab_1/ID2223-LAB-1/wine/wine-training-pipeline.ipynb#X12sZmlsZQ%3D%3D?line=6'>7</a>\u001b[0m model \u001b[39m=\u001b[39m RandomForestClassifier() \u001b[39m#(random_state=42)\u001b[39;00m\n",
      "\u001b[0;31mTypeError\u001b[0m: FeatureView.train_test_split() got an unexpected keyword argument 'stratify'"
     ]
    }
   ],
   "source": [
    "\n",
    "# You can read training data, randomly split into train/test sets of features (X) and labels (y)  #train s\n",
    "X_train, X_test, y_train, y_test = feature_view.train_test_split(test_size=0.2, stratify=y)           #80:20 split\n",
    "\n",
    "# Train our model with the Scikit-learn K-nearest-neighbors algorithm using our features (X_train) and labels (y_train)\n",
    "#model = KNeighborsClassifier(n_neighbors=2)     #CHANGE AS NEEDED\n",
    "#model = DecisionTreeClassifier()\n",
    "model = RandomForestClassifier() #(random_state=42)\n",
    "model.fit(X_train, y_train.values.ravel())"
   ]
  },
  {
   "cell_type": "code",
   "execution_count": 18,
   "id": "77aa0aee",
   "metadata": {},
   "outputs": [
    {
     "name": "stdout",
     "output_type": "stream",
     "text": [
      "[3 4 5 6 7 8 9]\n",
      "-------------------------------------------------------------------------\n",
      "[[  0   0   3   2   0   0]\n",
      " [  0   4  34   7   0   0]\n",
      " [  0   1 238 107   1   0]\n",
      " [  0   0 116 330  31   0]\n",
      " [  0   0  10 102  54   2]\n",
      " [  0   0   0  18  10   4]]\n",
      "-------------------------------------------------------------------------\n",
      "Accuracy: 58.659217877094974 %\n",
      "\n",
      "-------------------------------------------------------------------------\n",
      "Classification Report:\n",
      "              precision    recall  f1-score   support\n",
      "\n",
      "           3       0.00      0.00      0.00         5\n",
      "           4       0.80      0.09      0.16        45\n",
      "           5       0.59      0.69      0.64       347\n",
      "           6       0.58      0.69      0.63       477\n",
      "           7       0.56      0.32      0.41       168\n",
      "           8       0.67      0.12      0.21        32\n",
      "\n",
      "    accuracy                           0.59      1074\n",
      "   macro avg       0.53      0.32      0.34      1074\n",
      "weighted avg       0.59      0.59      0.56      1074\n",
      "\n",
      "-------------------------------------------------------------------------\n",
      "['type' 'fixed_acidity' 'volatile_acidity' 'citric_acid' 'residual_sugar'\n",
      " 'chlorides' 'free_sulfur_dioxide' 'total_sulfur_dioxide' 'density' 'ph'\n",
      " 'sulphates' 'alcohol']\n",
      "-------------------------------------------------------------------------\n",
      "Unique Classes in y_train: [5 6 8 7 4 3 9]\n",
      "Unique Classes in y_test: [5 6 7 4 8 3]\n"
     ]
    },
    {
     "name": "stderr",
     "output_type": "stream",
     "text": [
      "UndefinedMetricWarning: Precision and F-score are ill-defined and being set to 0.0 in labels with no predicted samples. Use `zero_division` parameter to control this behavior.\n",
      "UndefinedMetricWarning: Precision and F-score are ill-defined and being set to 0.0 in labels with no predicted samples. Use `zero_division` parameter to control this behavior.\n",
      "UndefinedMetricWarning: Precision and F-score are ill-defined and being set to 0.0 in labels with no predicted samples. Use `zero_division` parameter to control this behavior.\n",
      "UndefinedMetricWarning: Precision and F-score are ill-defined and being set to 0.0 in labels with no predicted samples. Use `zero_division` parameter to control this behavior.\n",
      "UndefinedMetricWarning: Precision and F-score are ill-defined and being set to 0.0 in labels with no predicted samples. Use `zero_division` parameter to control this behavior.\n",
      "UndefinedMetricWarning: Precision and F-score are ill-defined and being set to 0.0 in labels with no predicted samples. Use `zero_division` parameter to control this behavior.\n"
     ]
    }
   ],
   "source": [
    "# Evaluate model performance using the features from the test set (X_test)\n",
    "y_pred = model.predict(X_test)\n",
    "\n",
    "# Compare predictions (y_pred) with the labels in the test set (y_test)\n",
    "metrics = classification_report(y_test, y_pred, output_dict=True)\n",
    "results = confusion_matrix(y_test, y_pred)\n",
    "\n",
    "# PRINTS TO CHECK\n",
    "print(model.classes_)\n",
    "print(\"-------------------------------------------------------------------------\")\n",
    "print(results)\n",
    "print(\"-------------------------------------------------------------------------\")\n",
    "\n",
    "# Calculate accuracy\n",
    "accuracy = accuracy_score(y_test, y_pred)\n",
    "print(f'Accuracy: {accuracy*100} %\\n')\n",
    "print(\"-------------------------------------------------------------------------\")\n",
    "\n",
    "# Print classification report\n",
    "print(\"Classification Report:\")\n",
    "print(classification_report(y_test, y_pred))\n",
    "\n",
    "print(\"-------------------------------------------------------------------------\")\n",
    "print(model.feature_names_in_)\n",
    "\n",
    "print(\"-------------------------------------------------------------------------\")\n",
    "unique_train_y = y_train['quality'].unique()\n",
    "print(\"Unique Classes in y_train:\", unique_train_y)\n",
    "\n",
    "unique_test_y = y_test['quality'].unique()\n",
    "print(\"Unique Classes in y_test:\", unique_test_y)"
   ]
  },
  {
   "cell_type": "code",
   "execution_count": 19,
   "id": "4d944032",
   "metadata": {},
   "outputs": [
    {
     "name": "stdout",
     "output_type": "stream",
     "text": [
      "[3, 4, 5, 6, 7, 8, 9]\n",
      "<class 'list'>\n"
     ]
    },
    {
     "data": {
      "image/png": "[encoded data removed]",
      "text/plain": [
       "<Figure size 2000x1000 with 2 Axes>"
      ]
     },
     "metadata": {},
     "output_type": "display_data"
    }
   ],
   "source": [
    "# Create the confusion matrix as a figure, we will later store it as a PNG image file\n",
    "\n",
    "classes_list = model.classes_.tolist()\n",
    "print(classes_list)\n",
    "print(type(classes_list))\n",
    "\n",
    "df_cm = pd.DataFrame(results)\n",
    "\n",
    "# Create the heatmap\n",
    "pyplot.figure(figsize=(20, 10))\n",
    "cm = sns.heatmap(df_cm, annot=True, fmt=\"d\")\n",
    "fig = cm.get_figure()\n"
   ]
  },
  {
   "cell_type": "code",
   "execution_count": 90,
   "id": "bcfdfc4f",
   "metadata": {},
   "outputs": [
    {
     "name": "stdout",
     "output_type": "stream",
     "text": [
      "Connected. Call `.close()` to terminate connection gracefully.\n"
     ]
    },
    {
     "name": "stderr",
     "output_type": "stream",
     "text": [
      "Uploading: 100.000%|██████████| 24764609/24764609 elapsed<00:23 remaining<00:0097it/s]\n",
      "Uploading: 100.000%|██████████| 30465/30465 elapsed<00:01 remaining<00:001,  2.97it/s]\n",
      "Uploading: 100.000%|██████████| 1066/1066 elapsed<00:01 remaining<00:001:00, 15.17s/it]\n",
      "Model export complete: 100%|██████████| 6/6 [00:33<00:00,  5.53s/it]                   "
     ]
    },
    {
     "name": "stdout",
     "output_type": "stream",
     "text": [
      "Model created, explore it at https://c.app.hopsworks.ai:443/p/193692/models/wine_model/1\n"
     ]
    },
    {
     "name": "stderr",
     "output_type": "stream",
     "text": [
      "\n"
     ]
    },
    {
     "data": {
      "text/plain": [
       "Model(name: 'wine_model', version: 1)"
      ]
     },
     "execution_count": 90,
     "metadata": {},
     "output_type": "execute_result"
    }
   ],
   "source": [
    "# We will now upload our model to the Hopsworks Model Registry. First get an object for the model registry.\n",
    "mr = project.get_model_registry()\n",
    "\n",
    "# The contents of the 'wine_model' directory will be saved to the model registry. Create the dir, first.\n",
    "model_dir=\"wine_model\"\n",
    "if os.path.isdir(model_dir) == False:\n",
    "    os.mkdir(model_dir)\n",
    "\n",
    "# Save both our model and the confusion matrix to 'model_dir', whose contents will be uploaded to the model registry\n",
    "joblib.dump(model, model_dir + \"/wine_model.pkl\")       #binary serialization of model in python\n",
    "fig.savefig(model_dir + \"/wine_confusion_matrix.png\")    \n",
    "\n",
    "# Specify the schema of the model's input/output using the features (X_train) and labels (y_train)\n",
    "input_schema = Schema(X_train)\n",
    "output_schema = Schema(y_train)\n",
    "model_schema = ModelSchema(input_schema, output_schema)\n",
    "\n",
    "# Create an entry in the model registry that includes the model's name, desc, metrics\n",
    "wine_model = mr.python.create_model(\n",
    "    name=\"wine_model\", \n",
    "    metrics={\"accuracy\" : metrics['accuracy']},\n",
    "    model_schema=model_schema,\n",
    "    description=\"Wine Quality Predictor\"\n",
    ")\n",
    "\n",
    "# Upload the model to the model registry, including all files in 'model_dir'\n",
    "wine_model.save(model_dir)"
   ]
  },
  {
   "cell_type": "code",
   "execution_count": null,
   "id": "f707b056",
   "metadata": {},
   "outputs": [],
   "source": []
  }
 ],
 "metadata": {
  "kernelspec": {
   "display_name": "Python 3 (ipykernel)",
   "language": "python",
   "name": "python3"
  },
  "language_info": {
   "codemirror_mode": {
    "name": "ipython",
    "version": 3
   },
   "file_extension": ".py",
   "mimetype": "text/x-python",
   "name": "python",
   "nbconvert_exporter": "python",
   "pygments_lexer": "ipython3",
   "version": "3.10.12"
  }
 },
 "nbformat": 4,
 "nbformat_minor": 5
}
